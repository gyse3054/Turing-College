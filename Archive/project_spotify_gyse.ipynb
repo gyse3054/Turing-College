{
 "cells": [
  {
   "cell_type": "code",
   "execution_count": 2,
   "metadata": {},
   "outputs": [],
   "source": [
    "import numpy as np\n",
    "import pandas as pd"
   ]
  },
  {
   "cell_type": "markdown",
   "metadata": {},
   "source": [
    "Importing data and looking at the top 5 rows."
   ]
  },
  {
   "cell_type": "code",
   "execution_count": 3,
   "metadata": {},
   "outputs": [
    {
     "data": {
      "text/html": [
       "<div>\n",
       "<style scoped>\n",
       "    .dataframe tbody tr th:only-of-type {\n",
       "        vertical-align: middle;\n",
       "    }\n",
       "\n",
       "    .dataframe tbody tr th {\n",
       "        vertical-align: top;\n",
       "    }\n",
       "\n",
       "    .dataframe thead th {\n",
       "        text-align: right;\n",
       "    }\n",
       "</style>\n",
       "<table border=\"1\" class=\"dataframe\">\n",
       "  <thead>\n",
       "    <tr style=\"text-align: right;\">\n",
       "      <th></th>\n",
       "      <th>artist</th>\n",
       "      <th>album</th>\n",
       "      <th>track_name</th>\n",
       "      <th>track_id</th>\n",
       "      <th>energy</th>\n",
       "      <th>danceability</th>\n",
       "      <th>key</th>\n",
       "      <th>loudness</th>\n",
       "      <th>acousticness</th>\n",
       "      <th>speechiness</th>\n",
       "      <th>instrumentalness</th>\n",
       "      <th>liveness</th>\n",
       "      <th>valence</th>\n",
       "      <th>tempo</th>\n",
       "      <th>duration_ms</th>\n",
       "      <th>genre</th>\n",
       "    </tr>\n",
       "  </thead>\n",
       "  <tbody>\n",
       "    <tr>\n",
       "      <th>0</th>\n",
       "      <td>The Weeknd</td>\n",
       "      <td>After Hours</td>\n",
       "      <td>Blinding Lights</td>\n",
       "      <td>0VjIjW4GlUZAMYd2vXMi3b</td>\n",
       "      <td>0.730</td>\n",
       "      <td>0.514</td>\n",
       "      <td>1</td>\n",
       "      <td>-5.934</td>\n",
       "      <td>0.00146</td>\n",
       "      <td>0.0598</td>\n",
       "      <td>0.000095</td>\n",
       "      <td>0.0897</td>\n",
       "      <td>0.334</td>\n",
       "      <td>171.005</td>\n",
       "      <td>200040</td>\n",
       "      <td>R&amp;B/Soul</td>\n",
       "    </tr>\n",
       "    <tr>\n",
       "      <th>1</th>\n",
       "      <td>Tones And I</td>\n",
       "      <td>Dance Monkey</td>\n",
       "      <td>Dance Monkey</td>\n",
       "      <td>1rgnBhdG2JDFTbYkYRZAku</td>\n",
       "      <td>0.593</td>\n",
       "      <td>0.825</td>\n",
       "      <td>6</td>\n",
       "      <td>-6.401</td>\n",
       "      <td>0.68800</td>\n",
       "      <td>0.0988</td>\n",
       "      <td>0.000161</td>\n",
       "      <td>0.1700</td>\n",
       "      <td>0.540</td>\n",
       "      <td>98.078</td>\n",
       "      <td>209755</td>\n",
       "      <td>Alternative/Indie</td>\n",
       "    </tr>\n",
       "    <tr>\n",
       "      <th>2</th>\n",
       "      <td>Roddy Ricch</td>\n",
       "      <td>Please Excuse Me For Being Antisocial</td>\n",
       "      <td>The Box</td>\n",
       "      <td>0nbXyq5TXYPCO7pr3N8S4I</td>\n",
       "      <td>0.586</td>\n",
       "      <td>0.896</td>\n",
       "      <td>10</td>\n",
       "      <td>-6.687</td>\n",
       "      <td>0.10400</td>\n",
       "      <td>0.0559</td>\n",
       "      <td>0.000000</td>\n",
       "      <td>0.7900</td>\n",
       "      <td>0.642</td>\n",
       "      <td>116.971</td>\n",
       "      <td>196653</td>\n",
       "      <td>Hip-Hop/Rap</td>\n",
       "    </tr>\n",
       "    <tr>\n",
       "      <th>3</th>\n",
       "      <td>SAINt JHN</td>\n",
       "      <td>Roses (Imanbek Remix)</td>\n",
       "      <td>Roses - Imanbek Remix</td>\n",
       "      <td>2Wo6QQD1KMDWeFkkjLqwx5</td>\n",
       "      <td>0.721</td>\n",
       "      <td>0.785</td>\n",
       "      <td>8</td>\n",
       "      <td>-5.457</td>\n",
       "      <td>0.01490</td>\n",
       "      <td>0.0506</td>\n",
       "      <td>0.004320</td>\n",
       "      <td>0.2850</td>\n",
       "      <td>0.894</td>\n",
       "      <td>121.962</td>\n",
       "      <td>176219</td>\n",
       "      <td>Dance/Electronic</td>\n",
       "    </tr>\n",
       "    <tr>\n",
       "      <th>4</th>\n",
       "      <td>Dua Lipa</td>\n",
       "      <td>Future Nostalgia</td>\n",
       "      <td>Don't Start Now</td>\n",
       "      <td>3PfIrDoz19wz7qK7tYeu62</td>\n",
       "      <td>0.793</td>\n",
       "      <td>0.793</td>\n",
       "      <td>11</td>\n",
       "      <td>-4.521</td>\n",
       "      <td>0.01230</td>\n",
       "      <td>0.0830</td>\n",
       "      <td>0.000000</td>\n",
       "      <td>0.0951</td>\n",
       "      <td>0.679</td>\n",
       "      <td>123.950</td>\n",
       "      <td>183290</td>\n",
       "      <td>Nu-disco</td>\n",
       "    </tr>\n",
       "  </tbody>\n",
       "</table>\n",
       "</div>"
      ],
      "text/plain": [
       "        artist                                  album             track_name  \\\n",
       "0   The Weeknd                            After Hours        Blinding Lights   \n",
       "1  Tones And I                           Dance Monkey           Dance Monkey   \n",
       "2  Roddy Ricch  Please Excuse Me For Being Antisocial                The Box   \n",
       "3    SAINt JHN                  Roses (Imanbek Remix)  Roses - Imanbek Remix   \n",
       "4     Dua Lipa                       Future Nostalgia        Don't Start Now   \n",
       "\n",
       "                 track_id  energy  danceability  key  loudness  acousticness  \\\n",
       "0  0VjIjW4GlUZAMYd2vXMi3b   0.730         0.514    1    -5.934       0.00146   \n",
       "1  1rgnBhdG2JDFTbYkYRZAku   0.593         0.825    6    -6.401       0.68800   \n",
       "2  0nbXyq5TXYPCO7pr3N8S4I   0.586         0.896   10    -6.687       0.10400   \n",
       "3  2Wo6QQD1KMDWeFkkjLqwx5   0.721         0.785    8    -5.457       0.01490   \n",
       "4  3PfIrDoz19wz7qK7tYeu62   0.793         0.793   11    -4.521       0.01230   \n",
       "\n",
       "   speechiness  instrumentalness  liveness  valence    tempo  duration_ms  \\\n",
       "0       0.0598          0.000095    0.0897    0.334  171.005       200040   \n",
       "1       0.0988          0.000161    0.1700    0.540   98.078       209755   \n",
       "2       0.0559          0.000000    0.7900    0.642  116.971       196653   \n",
       "3       0.0506          0.004320    0.2850    0.894  121.962       176219   \n",
       "4       0.0830          0.000000    0.0951    0.679  123.950       183290   \n",
       "\n",
       "               genre  \n",
       "0           R&B/Soul  \n",
       "1  Alternative/Indie  \n",
       "2        Hip-Hop/Rap  \n",
       "3   Dance/Electronic  \n",
       "4           Nu-disco  "
      ]
     },
     "execution_count": 3,
     "metadata": {},
     "output_type": "execute_result"
    }
   ],
   "source": [
    "df = pd.read_csv('spotifytoptracks.csv', index_col= 0)\n",
    "df.head(5)"
   ]
  },
  {
   "cell_type": "markdown",
   "metadata": {},
   "source": [
    "## Data Cleaning\n",
    "\n",
    "This section will provide a guide how to handle missing values, remove duplicated and treat the outliers.\n"
   ]
  },
  {
   "cell_type": "markdown",
   "metadata": {},
   "source": [
    "### Handling missing values"
   ]
  },
  {
   "cell_type": "code",
   "execution_count": 4,
   "metadata": {},
   "outputs": [
    {
     "data": {
      "text/plain": [
       "artist              0\n",
       "album               0\n",
       "track_name          0\n",
       "track_id            0\n",
       "energy              0\n",
       "danceability        0\n",
       "key                 0\n",
       "loudness            0\n",
       "acousticness        0\n",
       "speechiness         0\n",
       "instrumentalness    0\n",
       "liveness            0\n",
       "valence             0\n",
       "tempo               0\n",
       "duration_ms         0\n",
       "genre               0\n",
       "dtype: int64"
      ]
     },
     "execution_count": 4,
     "metadata": {},
     "output_type": "execute_result"
    }
   ],
   "source": [
    "missing_values = df.isna().sum()\n",
    "missing_values"
   ]
  },
  {
   "cell_type": "markdown",
   "metadata": {},
   "source": [
    "There are no missing values in the data."
   ]
  },
  {
   "cell_type": "markdown",
   "metadata": {},
   "source": [
    "### Removing duplicates\n",
    "\n",
    "When looking at the data there can be only same \"artist\" and \"track_name\" as a duplicate. Therefore, below codes checks if there are any such cases:"
   ]
  },
  {
   "cell_type": "code",
   "execution_count": 7,
   "metadata": {},
   "outputs": [
    {
     "data": {
      "text/html": [
       "<div>\n",
       "<style scoped>\n",
       "    .dataframe tbody tr th:only-of-type {\n",
       "        vertical-align: middle;\n",
       "    }\n",
       "\n",
       "    .dataframe tbody tr th {\n",
       "        vertical-align: top;\n",
       "    }\n",
       "\n",
       "    .dataframe thead th {\n",
       "        text-align: right;\n",
       "    }\n",
       "</style>\n",
       "<table border=\"1\" class=\"dataframe\">\n",
       "  <thead>\n",
       "    <tr style=\"text-align: right;\">\n",
       "      <th></th>\n",
       "      <th>artist</th>\n",
       "      <th>album</th>\n",
       "      <th>track_name</th>\n",
       "      <th>track_id</th>\n",
       "      <th>energy</th>\n",
       "      <th>danceability</th>\n",
       "      <th>key</th>\n",
       "      <th>loudness</th>\n",
       "      <th>acousticness</th>\n",
       "      <th>speechiness</th>\n",
       "      <th>instrumentalness</th>\n",
       "      <th>liveness</th>\n",
       "      <th>valence</th>\n",
       "      <th>tempo</th>\n",
       "      <th>duration_ms</th>\n",
       "      <th>genre</th>\n",
       "    </tr>\n",
       "  </thead>\n",
       "  <tbody>\n",
       "  </tbody>\n",
       "</table>\n",
       "</div>"
      ],
      "text/plain": [
       "Empty DataFrame\n",
       "Columns: [artist, album, track_name, track_id, energy, danceability, key, loudness, acousticness, speechiness, instrumentalness, liveness, valence, tempo, duration_ms, genre]\n",
       "Index: []"
      ]
     },
     "execution_count": 7,
     "metadata": {},
     "output_type": "execute_result"
    }
   ],
   "source": [
    "duplicate_rows = df[df.duplicated(subset=[\"artist\", \"track_name\"])]\n",
    "duplicate_rows\n",
    " "
   ]
  },
  {
   "cell_type": "markdown",
   "metadata": {},
   "source": [
    "There are no duplicates in the data."
   ]
  },
  {
   "cell_type": "markdown",
   "metadata": {},
   "source": [
    "### Treating outliers\n",
    "\n",
    "This data has only 50 observations and removal of outliers would reduce the number even more, terefore, identified outliers will be capped with the lower or upper value."
   ]
  },
  {
   "cell_type": "markdown",
   "metadata": {},
   "source": [
    "Below columns were identified as the ones that migh have outliers:"
   ]
  },
  {
   "cell_type": "code",
   "execution_count": 9,
   "metadata": {},
   "outputs": [],
   "source": [
    "columns_with_outliers = [\"energy\", \"danceability\", \"loudness\", \"acousticness\", \"speechiness\", \"instrumentalness\", \"liveness\", \"valence\", \"tempo\", \"duration_ms\"]"
   ]
  },
  {
   "cell_type": "markdown",
   "metadata": {},
   "source": [
    "Defining the lower and upper percentiles for capping:"
   ]
  },
  {
   "cell_type": "code",
   "execution_count": 10,
   "metadata": {},
   "outputs": [],
   "source": [
    "lower_percentile = 0.05  \n",
    "upper_percentile = 0.95  "
   ]
  },
  {
   "cell_type": "markdown",
   "metadata": {},
   "source": [
    "Applying capping:"
   ]
  },
  {
   "cell_type": "code",
   "execution_count": 11,
   "metadata": {},
   "outputs": [],
   "source": [
    "for column in columns_with_outliers:\n",
    "    lower_bound = df[column].quantile(lower_percentile)\n",
    "    upper_bound = df[column].quantile(upper_percentile)\n",
    "    \n",
    "    df[column] = np.where(df[column] < lower_bound, lower_bound, df[column])\n",
    "    df[column] = np.where(df[column] > upper_bound, upper_bound, df[column])\n"
   ]
  },
  {
   "cell_type": "markdown",
   "metadata": {},
   "source": [
    "## Exploratory data analysis\n",
    "\n",
    "This section will provide basic statistics of the data."
   ]
  },
  {
   "cell_type": "markdown",
   "metadata": {},
   "source": [
    "How many observations are there in this dataset?"
   ]
  },
  {
   "cell_type": "code",
   "execution_count": 12,
   "metadata": {},
   "outputs": [
    {
     "name": "stdout",
     "output_type": "stream",
     "text": [
      "There are 50 observations in this data.\n"
     ]
    }
   ],
   "source": [
    "num_observations = len(df)\n",
    "print('There are',num_observations,'observations in this data.')"
   ]
  },
  {
   "cell_type": "markdown",
   "metadata": {},
   "source": [
    "How many features this dataset has?"
   ]
  },
  {
   "cell_type": "code",
   "execution_count": 13,
   "metadata": {},
   "outputs": [
    {
     "name": "stdout",
     "output_type": "stream",
     "text": [
      "There are 16 features in this data.\n"
     ]
    }
   ],
   "source": [
    "num_features = len(df.columns)\n",
    "print('There are',num_features,'features in this data.')"
   ]
  },
  {
   "cell_type": "markdown",
   "metadata": {},
   "source": [
    "Which of the features are categorical?"
   ]
  },
  {
   "cell_type": "code",
   "execution_count": 14,
   "metadata": {},
   "outputs": [
    {
     "name": "stdout",
     "output_type": "stream",
     "text": [
      "Categorical features are: 'artist', 'album', 'track_name', 'track_id', 'genre'\n"
     ]
    }
   ],
   "source": [
    "categorical_features = df.select_dtypes(include='object').columns\n",
    "categorical_features_str = str(categorical_features)\n",
    "categorical_features_str = categorical_features_str[categorical_features_str.find('[')+1:categorical_features_str.rfind(']')]\n",
    "print('Categorical features are:', categorical_features_str)"
   ]
  },
  {
   "cell_type": "markdown",
   "metadata": {},
   "source": [
    "Which of the features are numeric?"
   ]
  },
  {
   "cell_type": "code",
   "execution_count": 15,
   "metadata": {},
   "outputs": [
    {
     "name": "stdout",
     "output_type": "stream",
     "text": [
      "Numeric features are: 'energy', 'danceability', 'key', 'loudness', 'acousticness',\n",
      "       'speechiness', 'instrumentalness', 'liveness', 'valence', 'tempo',\n",
      "       'duration_ms'\n"
     ]
    }
   ],
   "source": [
    "numeric_features = df.select_dtypes(include='number').columns\n",
    "numeric_features_str = str(numeric_features)\n",
    "numeric_features_str = numeric_features_str[numeric_features_str.find('[')+1:numeric_features_str.rfind(']')]\n",
    "print('Numeric features are:', numeric_features_str)"
   ]
  },
  {
   "cell_type": "markdown",
   "metadata": {},
   "source": [
    "Are there any artists that have more than 1 popular track? If yes, which and how many?"
   ]
  },
  {
   "cell_type": "code",
   "execution_count": 16,
   "metadata": {},
   "outputs": [
    {
     "name": "stdout",
     "output_type": "stream",
     "text": [
      "These artists have more than one popular song: artist\n",
      "Billie Eilish    3\n",
      "Dua Lipa         3\n",
      "Travis Scott     3\n",
      "Justin Bieber    2\n",
      "Harry Styles     2\n",
      "Lewis Capaldi    2\n",
      "Post Malone      2\n",
      "Name: count, dtype: int64\n"
     ]
    }
   ],
   "source": [
    "popular_artists = df['artist'].value_counts()\n",
    "popular_artists = popular_artists[popular_artists > 1]\n",
    "print('These artists have more than one popular song:',popular_artists)"
   ]
  },
  {
   "cell_type": "markdown",
   "metadata": {},
   "source": [
    "Who was the most popular artist?"
   ]
  },
  {
   "cell_type": "code",
   "execution_count": 17,
   "metadata": {},
   "outputs": [
    {
     "name": "stdout",
     "output_type": "stream",
     "text": [
      "Artists with the most osngs in the top 50:\n",
      "Billie Eilish\n",
      "Dua Lipa\n",
      "Travis Scott\n"
     ]
    }
   ],
   "source": [
    "most_popular_artist = popular_artists.idxmax()\n",
    "most_popular_tracks = popular_artists.max()\n",
    "artists_with_same_popularity = popular_artists[popular_artists == most_popular_tracks]\n",
    "print(\"Artists with the most osngs in the top 50:\")\n",
    "for artist in artists_with_same_popularity.index:\n",
    "    print(artist)"
   ]
  },
  {
   "cell_type": "markdown",
   "metadata": {},
   "source": [
    "How many artists in total have their songs in the top 50?"
   ]
  },
  {
   "cell_type": "code",
   "execution_count": 18,
   "metadata": {},
   "outputs": [
    {
     "name": "stdout",
     "output_type": "stream",
     "text": [
      "There are 40 different artists in the TOP 50.\n"
     ]
    }
   ],
   "source": [
    "total_artists = len(df['artist'].unique())\n",
    "total_artists\n",
    "print('There are',total_artists,'different artists in the TOP 50.')"
   ]
  },
  {
   "cell_type": "markdown",
   "metadata": {},
   "source": [
    "Are there any albums that have more than 1 popular track? If yes, which and how many?"
   ]
  },
  {
   "cell_type": "code",
   "execution_count": 19,
   "metadata": {},
   "outputs": [
    {
     "name": "stdout",
     "output_type": "stream",
     "text": [
      "Albums with More than 1 Popular Track:\n",
      " album\n",
      "Future Nostalgia        3\n",
      "Hollywood's Bleeding    2\n",
      "Fine Line               2\n",
      "Changes                 2\n",
      "Name: count, dtype: int64\n"
     ]
    }
   ],
   "source": [
    "popular_albums = df['album'].value_counts()\n",
    "popular_albums = popular_albums[popular_albums > 1]\n",
    "print(\"Albums with More than 1 Popular Track:\\n\", popular_albums)"
   ]
  },
  {
   "cell_type": "markdown",
   "metadata": {},
   "source": [
    "How many albums in total have their songs in the top 50?"
   ]
  },
  {
   "cell_type": "code",
   "execution_count": 20,
   "metadata": {},
   "outputs": [
    {
     "name": "stdout",
     "output_type": "stream",
     "text": [
      "Total Albums with Songs in the Top 50: 45\n"
     ]
    }
   ],
   "source": [
    "total_albums = len(df['album'].unique())\n",
    "print(\"Total Albums with Songs in the Top 50:\", total_albums)"
   ]
  },
  {
   "cell_type": "markdown",
   "metadata": {},
   "source": [
    "Which tracks have a danceability score above 0.7?"
   ]
  },
  {
   "cell_type": "code",
   "execution_count": 21,
   "metadata": {},
   "outputs": [
    {
     "name": "stdout",
     "output_type": "stream",
     "text": [
      "Tracks with Danceability > 0.7:\n",
      " 1                                      Dance Monkey\n",
      "2                                           The Box\n",
      "3                             Roses - Imanbek Remix\n",
      "4                                   Don't Start Now\n",
      "5                      ROCKSTAR (feat. Roddy Ricch)\n",
      "7                  death bed (coffee for your head)\n",
      "8                                           Falling\n",
      "10                                             Tusa\n",
      "13                                  Blueberry Faygo\n",
      "14                         Intentions (feat. Quavo)\n",
      "15                                     Toosie Slide\n",
      "17                                           Say So\n",
      "18                                         Memories\n",
      "19                       Life Is Good (feat. Drake)\n",
      "20                 Savage Love (Laxed - Siren Beat)\n",
      "22                                      Breaking Me\n",
      "24                              everything i wanted\n",
      "25                                         Señorita\n",
      "26                                          bad guy\n",
      "27                  WAP (feat. Megan Thee Stallion)\n",
      "28                                      Sunday Best\n",
      "29                      Godzilla (feat. Juice WRLD)\n",
      "31                                   Break My Heart\n",
      "32                                         Dynamite\n",
      "33                 Supalonely (feat. Gus Dapperton)\n",
      "37    Sunflower - Spider-Man: Into the Spider-Verse\n",
      "38                                            Hawái\n",
      "39                                          Ride It\n",
      "40                                       goosebumps\n",
      "41                        RITMO (Bad Boys For Life)\n",
      "42                                       THE SCOTTS\n",
      "49                                       SICKO MODE\n",
      "Name: track_name, dtype: object\n"
     ]
    }
   ],
   "source": [
    "high_danceability_tracks = df[df['danceability'] > 0.7]\n",
    "print(\"Tracks with Danceability > 0.7:\\n\", high_danceability_tracks['track_name'])"
   ]
  },
  {
   "cell_type": "markdown",
   "metadata": {},
   "source": [
    "Which tracks have their loudness above -5?"
   ]
  },
  {
   "cell_type": "code",
   "execution_count": 22,
   "metadata": {},
   "outputs": [
    {
     "name": "stdout",
     "output_type": "stream",
     "text": [
      "Tracks with Loudness > -5:\n",
      " 4                                   Don't Start Now\n",
      "6                                  Watermelon Sugar\n",
      "10                                             Tusa\n",
      "12                                          Circles\n",
      "16                                    Before You Go\n",
      "17                                           Say So\n",
      "21                                        Adore You\n",
      "23                           Mood (feat. iann dior)\n",
      "31                                   Break My Heart\n",
      "32                                         Dynamite\n",
      "33                 Supalonely (feat. Gus Dapperton)\n",
      "35                  Rain On Me (with Ariana Grande)\n",
      "37    Sunflower - Spider-Man: Into the Spider-Verse\n",
      "38                                            Hawái\n",
      "39                                          Ride It\n",
      "40                                       goosebumps\n",
      "43                                          Safaera\n",
      "48                                         Physical\n",
      "49                                       SICKO MODE\n",
      "Name: track_name, dtype: object\n"
     ]
    }
   ],
   "source": [
    "high_loudness_tracks = df[df['loudness'] > -5]\n",
    "print(\"Tracks with Loudness > -5:\\n\", high_loudness_tracks['track_name'])"
   ]
  },
  {
   "cell_type": "markdown",
   "metadata": {},
   "source": [
    "Which tracks have their loudness below -8?"
   ]
  },
  {
   "cell_type": "code",
   "execution_count": 23,
   "metadata": {},
   "outputs": [
    {
     "name": "stdout",
     "output_type": "stream",
     "text": [
      "Tracks with Loudness < -8:\n",
      " 7                   death bed (coffee for your head)\n",
      "8                                            Falling\n",
      "15                                      Toosie Slide\n",
      "20                  Savage Love (Laxed - Siren Beat)\n",
      "24                               everything i wanted\n",
      "26                                           bad guy\n",
      "36                               HIGHEST IN THE ROOM\n",
      "44                              lovely (with Khalid)\n",
      "47    If the World Was Ending - feat. Julia Michaels\n",
      "Name: track_name, dtype: object\n"
     ]
    }
   ],
   "source": [
    "low_loudness_tracks = df[df['loudness'] < -8]\n",
    "print(\"Tracks with Loudness < -8:\\n\", low_loudness_tracks['track_name'])"
   ]
  },
  {
   "cell_type": "markdown",
   "metadata": {},
   "source": [
    "Which track is the longest?"
   ]
  },
  {
   "cell_type": "code",
   "execution_count": 24,
   "metadata": {},
   "outputs": [
    {
     "name": "stdout",
     "output_type": "stream",
     "text": [
      "Longest Track:\n",
      "       track_name  duration_ms\n",
      "15  Toosie Slide    246324.15\n",
      "43       Safaera    246324.15\n",
      "49    SICKO MODE    246324.15\n"
     ]
    }
   ],
   "source": [
    "longest_track = df[df['duration_ms'] == df['duration_ms'].max()]\n",
    "print(\"Longest Track:\\n\", longest_track[['track_name', 'duration_ms']])"
   ]
  },
  {
   "cell_type": "markdown",
   "metadata": {},
   "source": [
    "Which track is the shortest?"
   ]
  },
  {
   "cell_type": "code",
   "execution_count": 25,
   "metadata": {},
   "outputs": [
    {
     "name": "stdout",
     "output_type": "stream",
     "text": [
      "Shortest Track:\n",
      "                                        track_name  duration_ms\n",
      "23                         Mood (feat. iann dior)    158040.25\n",
      "37  Sunflower - Spider-Man: Into the Spider-Verse    158040.25\n",
      "39                                        Ride It    158040.25\n"
     ]
    }
   ],
   "source": [
    "shortest_track = df[df['duration_ms'] == df['duration_ms'].min()]\n",
    "print(\"Shortest Track:\\n\", shortest_track[['track_name', 'duration_ms']])"
   ]
  },
  {
   "cell_type": "markdown",
   "metadata": {},
   "source": [
    "Which genre is the most popular?"
   ]
  },
  {
   "cell_type": "code",
   "execution_count": 71,
   "metadata": {},
   "outputs": [
    {
     "name": "stdout",
     "output_type": "stream",
     "text": [
      "Most Popular Genre: Pop\n"
     ]
    }
   ],
   "source": [
    "most_popular_genre = df['genre'].value_counts().idxmax()\n",
    "print(\"Most Popular Genre:\", most_popular_genre)"
   ]
  },
  {
   "cell_type": "markdown",
   "metadata": {},
   "source": [
    "Which genres have just one song on the top 50?"
   ]
  },
  {
   "cell_type": "code",
   "execution_count": 27,
   "metadata": {},
   "outputs": [
    {
     "name": "stdout",
     "output_type": "stream",
     "text": [
      "Genres with Just One Song:\n",
      " genre\n",
      "Nu-disco                              1\n",
      "R&B/Hip-Hop alternative               1\n",
      "Pop/Soft Rock                         1\n",
      "Pop rap                               1\n",
      "Hip-Hop/Trap                          1\n",
      "Dance-pop/Disco                       1\n",
      "Disco-pop                             1\n",
      "Dreampop/Hip-Hop/R&B                  1\n",
      "Alternative/reggaeton/experimental    1\n",
      "Chamber pop                           1\n",
      "Name: count, dtype: int64\n"
     ]
    }
   ],
   "source": [
    "genres_with_one_song = df['genre'].value_counts()[df['genre'].value_counts() == 1]\n",
    "print(\"Genres with Just One Song:\\n\", genres_with_one_song)"
   ]
  },
  {
   "cell_type": "markdown",
   "metadata": {},
   "source": [
    "How many genres in total are represented in the top 50?"
   ]
  },
  {
   "cell_type": "code",
   "execution_count": 26,
   "metadata": {},
   "outputs": [
    {
     "name": "stdout",
     "output_type": "stream",
     "text": [
      "Total Genres Represented: 16\n"
     ]
    }
   ],
   "source": [
    "total_genres = len(df['genre'].unique())\n",
    "print(\"Total Genres Represented:\", total_genres)"
   ]
  },
  {
   "cell_type": "markdown",
   "metadata": {},
   "source": [
    "Which features are strongly positively correlated?"
   ]
  },
  {
   "cell_type": "code",
   "execution_count": 28,
   "metadata": {},
   "outputs": [
    {
     "name": "stdout",
     "output_type": "stream",
     "text": [
      "Strongly Positively Correlated Features:\n",
      " loudness  energy    0.779392\n",
      "dtype: float64\n"
     ]
    }
   ],
   "source": [
    "numeric_features = df.select_dtypes(include='number')\n",
    "corr_matrix = numeric_features.corr()\n",
    "positive_corr = corr_matrix.unstack().sort_values().drop_duplicates()\n",
    "strong_pos_corr = positive_corr[(positive_corr > 0.5) & (positive_corr < 1)]\n",
    "\n",
    "print(\"Strongly Positively Correlated Features:\\n\", strong_pos_corr)"
   ]
  },
  {
   "cell_type": "markdown",
   "metadata": {},
   "source": [
    "Which features are strongly negatively correlated?"
   ]
  },
  {
   "cell_type": "code",
   "execution_count": 29,
   "metadata": {},
   "outputs": [
    {
     "name": "stdout",
     "output_type": "stream",
     "text": [
      "Strongly Negatively Correlated Features:\n",
      " energy  acousticness   -0.646967\n",
      "dtype: float64\n"
     ]
    }
   ],
   "source": [
    "numeric_features = df.select_dtypes(include='number')\n",
    "corr_matrix = numeric_features.corr()\n",
    "negative_corr = corr_matrix.unstack().sort_values().drop_duplicates()\n",
    "strong_neg_corr = negative_corr[(negative_corr < -0.5) & (negative_corr > -1)]\n",
    "\n",
    "print(\"Strongly Negatively Correlated Features:\\n\", strong_neg_corr)"
   ]
  },
  {
   "cell_type": "markdown",
   "metadata": {},
   "source": [
    "Which features are not correlated?"
   ]
  },
  {
   "cell_type": "code",
   "execution_count": 31,
   "metadata": {},
   "outputs": [
    {
     "name": "stdout",
     "output_type": "stream",
     "text": [
      "Uncorrelated Features:\n",
      " liveness          duration_ms        -0.085155\n",
      "                  loudness           -0.084439\n",
      "speechiness       key                -0.079774\n",
      "liveness          danceability       -0.073954\n",
      "valence           liveness           -0.057963\n",
      "danceability      duration_ms        -0.053753\n",
      "duration_ms       valence            -0.036504\n",
      "instrumentalness  energy             -0.033964\n",
      "speechiness       loudness           -0.014151\n",
      "valence           instrumentalness   -0.011315\n",
      "key               loudness           -0.002883\n",
      "danceability      instrumentalness   -0.002837\n",
      "key               duration_ms         0.006829\n",
      "valence           tempo               0.025644\n",
      "tempo             liveness            0.034229\n",
      "speechiness       instrumentalness    0.035198\n",
      "instrumentalness  liveness            0.036014\n",
      "valence           speechiness         0.047537\n",
      "instrumentalness  tempo               0.051661\n",
      "energy            duration_ms         0.056325\n",
      "acousticness      instrumentalness    0.056500\n",
      "key               instrumentalness    0.057934\n",
      "duration_ms       acousticness        0.060390\n",
      "tempo             energy              0.062368\n",
      "energy            key                 0.073959\n",
      "tempo             key                 0.075324\n",
      "liveness          energy              0.075764\n",
      "speechiness       energy              0.076451\n",
      "instrumentalness  duration_ms         0.079501\n",
      "duration_ms       loudness            0.082227\n",
      "dtype: float64\n"
     ]
    }
   ],
   "source": [
    "numeric_features = df.select_dtypes(include='number')\n",
    "corr_matrix = numeric_features.corr()\n",
    "uncorrelated_features = corr_matrix.unstack().sort_values().drop_duplicates()\n",
    "uncorrelated_features = uncorrelated_features[(uncorrelated_features < 0.1) & (uncorrelated_features > -0.1)]\n",
    "print(\"Uncorrelated Features:\\n\", uncorrelated_features)"
   ]
  },
  {
   "cell_type": "markdown",
   "metadata": {},
   "source": [
    "### How does the danceability score compare between Pop, Hip-Hop/Rap, Dance/Electronic, and Alternative/Indie genres?"
   ]
  },
  {
   "cell_type": "code",
   "execution_count": 37,
   "metadata": {},
   "outputs": [
    {
     "data": {
      "text/plain": [
       "Text(0, 0.5, 'Mean Score')"
      ]
     },
     "execution_count": 37,
     "metadata": {},
     "output_type": "execute_result"
    },
    {
     "data": {
      "image/png": "[encoded data removed]",
      "text/plain": [
       "<Figure size 600x400 with 1 Axes>"
      ]
     },
     "metadata": {},
     "output_type": "display_data"
    }
   ],
   "source": [
    "import matplotlib.pyplot as plt\n",
    "\n",
    "selected_genres = ['Pop', 'Hip-Hop/Rap', 'Dance/Electronic', 'Alternative/Indie']\n",
    "filtered_data = df[df['genre'].isin(selected_genres)]\n",
    "\n",
    "genre_scores = filtered_data.groupby('genre').agg({'danceability': 'mean', 'loudness': 'mean', 'acousticness': 'mean'})\n",
    "\n",
    "plt.figure(figsize=(6, 4))\n",
    "genre_scores['danceability'].plot(kind='bar', title='Danceability')\n",
    "plt.ylabel('Mean Score')"
   ]
  },
  {
   "cell_type": "markdown",
   "metadata": {},
   "source": [
    "Danceability is recorded between 0 and 1. The higher the number the more people tend to dance. The mean score of danceability in four different groups of genre are quite high and similar. This means that why listening this type of music people tends to dance quite frequently. "
   ]
  },
  {
   "cell_type": "markdown",
   "metadata": {},
   "source": [
    "### How does the loudness score compare between Pop, Hip-Hop/Rap, Dance/Electronic, and Alternative/Indie genres?"
   ]
  },
  {
   "cell_type": "code",
   "execution_count": 38,
   "metadata": {},
   "outputs": [
    {
     "data": {
      "text/plain": [
       "Text(0, 0.5, 'Mean Score')"
      ]
     },
     "execution_count": 38,
     "metadata": {},
     "output_type": "execute_result"
    },
    {
     "data": {
      "image/png": "[encoded data removed]",
      "text/plain": [
       "<Figure size 600x400 with 1 Axes>"
      ]
     },
     "metadata": {},
     "output_type": "display_data"
    }
   ],
   "source": [
    "plt.figure(figsize=(6, 4))\n",
    "genre_scores['loudness'].plot(kind='bar', title='Loudness')\n",
    "plt.ylabel('Mean Score')"
   ]
  },
  {
   "cell_type": "markdown",
   "metadata": {},
   "source": [
    "Loudness values are reported as negative numbers. This feature indicates the relative loudness of the track in decibel (dB). Higher absolute value means that song is louder.\n",
    "\n",
    "From the graph we can see that all genres have quite similar loudness that fall bewtween -5 and -7. Hip-Hop/Rap and Pop tends to be slightly louder than Alternative/Indie and Dance/Electronic."
   ]
  },
  {
   "cell_type": "markdown",
   "metadata": {},
   "source": [
    "### How does the acousticness score compare between Pop, Hip-Hop/Rap, Dance/Electronic, and Alternative/Indie genres?"
   ]
  },
  {
   "cell_type": "code",
   "execution_count": 39,
   "metadata": {},
   "outputs": [
    {
     "data": {
      "text/plain": [
       "Text(0, 0.5, 'Mean Score')"
      ]
     },
     "execution_count": 39,
     "metadata": {},
     "output_type": "execute_result"
    },
    {
     "data": {
      "image/png": "[encoded data removed]",
      "text/plain": [
       "<Figure size 600x400 with 1 Axes>"
      ]
     },
     "metadata": {},
     "output_type": "display_data"
    }
   ],
   "source": [
    "plt.figure(figsize=(6, 4))\n",
    "genre_scores['acousticness'].plot(kind='bar', title='Acousticness')\n",
    "plt.ylabel('Mean Score')"
   ]
  },
  {
   "cell_type": "markdown",
   "metadata": {},
   "source": [
    "The value of accoustiness feature range from 0 to 1. This feature indicate the relative metric of the track being acoustic. Higher value means the song is more acoustic.\n",
    "\n",
    "From the graph one can see that Alternative/Indie music genre has the highest acoustiness score while Dance/Electronic has the lowest."
   ]
  },
  {
   "cell_type": "markdown",
   "metadata": {},
   "source": [
    "### How analysis can be improved?\n",
    "\n",
    "This analysis provides key statistics of the data, however, it can be improved by:\n",
    "\n",
    "1. Performing statistical tests to identify outliers.\n",
    "2. Performing statistical tests to check if the differences between the genres are statistically significant.\n",
    "3. Add Top 50 data for different years/months to get better data sample for making conclusions.\n",
    "4. More visualization can be added to better illustrate findings."
   ]
  }
 ],
 "metadata": {
  "kernelspec": {
   "display_name": "Python 3",
   "language": "python",
   "name": "python3"
  },
  "language_info": {
   "codemirror_mode": {
    "name": "ipython",
    "version": 3
   },
   "file_extension": ".py",
   "mimetype": "text/x-python",
   "name": "python",
   "nbconvert_exporter": "python",
   "pygments_lexer": "ipython3",
   "version": "3.11.5"
  }
 },
 "nbformat": 4,
 "nbformat_minor": 2
}
